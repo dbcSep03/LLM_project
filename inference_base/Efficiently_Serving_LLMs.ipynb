{
 "cells": [
  {
   "cell_type": "markdown",
   "metadata": {},
   "source": [
    "# Efficiently_Serving_LLMs"
   ]
  },
  {
   "cell_type": "code",
   "execution_count": 2,
   "metadata": {},
   "outputs": [
    {
     "name": "stderr",
     "output_type": "stream",
     "text": [
      "/home/dongbingcheng/anaconda3/envs/llm/lib/python3.9/site-packages/tqdm/auto.py:21: TqdmWarning: IProgress not found. Please update jupyter and ipywidgets. See https://ipywidgets.readthedocs.io/en/stable/user_install.html\n",
      "  from .autonotebook import tqdm as notebook_tqdm\n"
     ]
    }
   ],
   "source": [
    "import matplotlib.pyplot as plt\n",
    "import numpy as np\n",
    "import time\n",
    "import torch\n",
    "from transformers import AutoModelForCausalLM, AutoTokenizer"
   ]
  },
  {
   "cell_type": "code",
   "execution_count": 4,
   "metadata": {},
   "outputs": [],
   "source": [
    "model = AutoModelForCausalLM.from_pretrained(\"models/gpt_2\")\n",
    "tokenizer = AutoTokenizer.from_pretrained(\"models/gpt_2\")"
   ]
  },
  {
   "cell_type": "code",
   "execution_count": 9,
   "metadata": {},
   "outputs": [
    {
     "name": "stdout",
     "output_type": "stream",
     "text": [
      "GPT2LMHeadModel(\n",
      "  (transformer): GPT2Model(\n",
      "    (wte): Embedding(50257, 768)\n",
      "    (wpe): Embedding(1024, 768)\n",
      "    (drop): Dropout(p=0.1, inplace=False)\n",
      "    (h): ModuleList(\n",
      "      (0-11): 12 x GPT2Block(\n",
      "        (ln_1): LayerNorm((768,), eps=1e-05, elementwise_affine=True)\n",
      "        (attn): GPT2Attention(\n",
      "          (c_attn): Conv1D()\n",
      "          (c_proj): Conv1D()\n",
      "          (attn_dropout): Dropout(p=0.1, inplace=False)\n",
      "          (resid_dropout): Dropout(p=0.1, inplace=False)\n",
      "        )\n",
      "        (ln_2): LayerNorm((768,), eps=1e-05, elementwise_affine=True)\n",
      "        (mlp): GPT2MLP(\n",
      "          (c_fc): Conv1D()\n",
      "          (c_proj): Conv1D()\n",
      "          (act): NewGELUActivation()\n",
      "          (dropout): Dropout(p=0.1, inplace=False)\n",
      "        )\n",
      "      )\n",
      "    )\n",
      "    (ln_f): LayerNorm((768,), eps=1e-05, elementwise_affine=True)\n",
      "  )\n",
      "  (lm_head): Linear(in_features=768, out_features=50257, bias=False)\n",
      ")\n",
      "1.24439808M\n"
     ]
    }
   ],
   "source": [
    "# 查看模型结构 和参数量\n",
    "print(model)\n",
    "print(f\"{sum( p.numel() for p in  model.parameters())/10e7}M\")"
   ]
  },
  {
   "cell_type": "markdown",
   "metadata": {},
   "source": [
    "## 文本生成"
   ]
  },
  {
   "cell_type": "code",
   "execution_count": 32,
   "metadata": {},
   "outputs": [],
   "source": [
    "def generate_toke(inputs):\n",
    "    with torch.no_grad():\n",
    "        outputs = model(**inputs)\n",
    "    logits = outputs.logits\n",
    "    last_logits = logits[0,-1,:]\n",
    "    next_token_id = last_logits.argmax()\n",
    "    return next_token_id"
   ]
  },
  {
   "cell_type": "code",
   "execution_count": 33,
   "metadata": {},
   "outputs": [
    {
     "name": "stdout",
     "output_type": "stream",
     "text": [
      "共0.24642419815063477 s\n",
      "[' fence', ' and', ' ran', ' to', ' the', ' other', ' side', ' of', ' the', ' fence']\n"
     ]
    }
   ],
   "source": [
    "generated_tokens = []\n",
    "prompt = \"The quick brown fox jumped over the\"\n",
    "next_inputs = tokenizer(prompt, return_tensors=\"pt\")\n",
    "duration_s = []\n",
    "for _ in range(10):\n",
    "    t0 = time.time()\n",
    "    next_token_id = generate_toke(next_inputs)\n",
    "    duration_s.append(time.time()-t0)\n",
    "\n",
    "    next_inputs = {\n",
    "        \"input_ids\": torch.cat([next_inputs[\"input_ids\"], next_token_id.reshape(-1,1)], dim=1),\n",
    "        \"attention_mask\": torch.cat([next_inputs[\"attention_mask\"], torch.tensor([[1]])], dim=1)\n",
    "    }\n",
    "    next_token = tokenizer.decode(next_token_id)\n",
    "    generated_tokens.append(next_token)\n",
    "print(f\"共{sum(duration_s)} s\")\n",
    "print(f\"{generated_tokens}\")"
   ]
  },
  {
   "cell_type": "code",
   "execution_count": 34,
   "metadata": {},
   "outputs": [
    {
     "data": {
      "image/png": "[encoded data removed]",
      "text/plain": [
       "<Figure size 640x480 with 1 Axes>"
      ]
     },
     "metadata": {},
     "output_type": "display_data"
    }
   ],
   "source": [
    "plt.plot(duration_s)\n",
    "plt.show()"
   ]
  },
  {
   "cell_type": "markdown",
   "metadata": {},
   "source": [
    "## Speeding up with KV-cache"
   ]
  },
  {
   "cell_type": "code",
   "execution_count": 35,
   "metadata": {},
   "outputs": [],
   "source": [
    "def generate_token_with_past(inputs):\n",
    "    with torch.no_grad():\n",
    "        outputs = model(**inputs)\n",
    "    \n",
    "    logits = outputs.logits\n",
    "    last_logits = logits[0,-1,:]\n",
    "    return last_logits.argmax(), outputs.past_key_values"
   ]
  },
  {
   "cell_type": "code",
   "execution_count": 36,
   "metadata": {},
   "outputs": [
    {
     "name": "stdout",
     "output_type": "stream",
     "text": [
      "共0.21579575538635254 s\n",
      "[' fence', ' and', ' ran', ' to', ' the', ' other', ' side', ' of', ' the', ' fence']\n"
     ]
    }
   ],
   "source": [
    "generated_tokens = []\n",
    "prompt = \"The quick brown fox jumped over the\"\n",
    "next_inputs = tokenizer(prompt, return_tensors=\"pt\")\n",
    "duration_cache_s = []\n",
    "for _ in range(10):\n",
    "    t0 = time.time()\n",
    "    next_token_id, past_key_values = generate_token_with_past(next_inputs)\n",
    "    duration_cache_s.append(time.time()-t0)\n",
    "\n",
    "    next_inputs = {\n",
    "        \"input_ids\": next_token_id.reshape(1,1),\n",
    "        \"attention_mask\": torch.cat([next_inputs[\"attention_mask\"], torch.tensor([[1]])], dim=1),\n",
    "        \"past_key_values\": past_key_values,\n",
    "    }\n",
    "    next_token = tokenizer.decode(next_token_id)\n",
    "    generated_tokens.append(next_token)\n",
    "print(f\"共{sum(duration_cache_s)} s\")\n",
    "print(f\"{generated_tokens}\")"
   ]
  },
  {
   "cell_type": "code",
   "execution_count": 38,
   "metadata": {},
   "outputs": [
    {
     "data": {
      "image/png": "[encoded data removed]",
      "text/plain": [
       "<Figure size 640x480 with 1 Axes>"
      ]
     },
     "metadata": {},
     "output_type": "display_data"
    }
   ],
   "source": [
    "plt.plot(duration_cache_s)\n",
    "plt.show()"
   ]
  },
  {
   "cell_type": "code",
   "execution_count": 41,
   "metadata": {},
   "outputs": [
    {
     "data": {
      "image/png": "[encoded data removed]",
      "text/plain": [
       "<Figure size 640x480 with 1 Axes>"
      ]
     },
     "metadata": {},
     "output_type": "display_data"
    }
   ],
   "source": [
    "plt.plot(duration_s)\n",
    "plt.plot(duration_cache_s)\n",
    "plt.show()\n",
    "# 可以很明显看到有了KV cache，序列生成并没有因为长度而时间越来越长"
   ]
  },
  {
   "cell_type": "markdown",
   "metadata": {},
   "source": [
    "## Batching"
   ]
  },
  {
   "cell_type": "code",
   "execution_count": 42,
   "metadata": {},
   "outputs": [],
   "source": [
    "import matplotlib.pyplot as plt\n",
    "import numpy as np\n",
    "import time\n",
    "import torch\n",
    "from transformers import AutoModelForCausalLM, AutoTokenizer\n",
    "from tqdm.auto import tqdm"
   ]
  },
  {
   "cell_type": "code",
   "execution_count": 43,
   "metadata": {},
   "outputs": [],
   "source": [
    "model = AutoModelForCausalLM.from_pretrained(\"models/gpt_2\")\n",
    "tokenizer = AutoTokenizer.from_pretrained(\"models/gpt_2\")"
   ]
  },
  {
   "cell_type": "code",
   "execution_count": 52,
   "metadata": {},
   "outputs": [],
   "source": [
    "tokenizer.pad_token = tokenizer.eos_token\n",
    "model.config.pad_token_id = model.config.eos_token_id\n",
    "tokenizer.padding_side = \"left\"\n",
    "tokenizer.truncation_side = \"left\""
   ]
  },
  {
   "cell_type": "code",
   "execution_count": 44,
   "metadata": {},
   "outputs": [],
   "source": [
    "def generate_batch_tokens_with_past(inputs):\n",
    "    with torch.no_grad():\n",
    "        outputs = model(**inputs)\n",
    "    logits = outputs.logits\n",
    "    return logits[:,-1,:].argmax(dim=1), outputs.past_key_values"
   ]
  },
  {
   "cell_type": "code",
   "execution_count": 53,
   "metadata": {},
   "outputs": [],
   "source": [
    "def generate_batch(inputs, max_tokens):\n",
    "    generated_tokens = [\n",
    "        [] for _ in range(inputs[\"input_ids\"].shape[0])\n",
    "    ]\n",
    "    attention_mask = inputs[\"attention_mask\"]\n",
    "    position_ids = attention_mask.long().cumsum(-1) -1  # 返回维度dim的累积和\n",
    "    position_ids.masked_fill_(attention_mask==0, 1)  # 对padding的位置改为1\n",
    "\n",
    "    next_inputs = {\n",
    "        **inputs,\n",
    "        \"position_ids\": position_ids\n",
    "    }\n",
    "\n",
    "    for _ in range(max_tokens):\n",
    "        next_token_ids, past_key_values = generate_batch_tokens_with_past(next_inputs)\n",
    "        next_inputs = {\n",
    "            \"input_ids\": next_token_ids.reshape((-1,1)),\n",
    "            \"attention_mask\": torch.cat([next_inputs[\"attention_mask\"],torch.ones((next_token_ids.shape[0],1))],dim=1),\n",
    "            \"position_ids\": next_inputs[\"position_ids\"][:,-1].unsqueeze(-1) + 1,\n",
    "            \"past_key_values\": past_key_values\n",
    "        }\n",
    "        next_tokens = tokenizer.batch_decode(next_token_ids)\n",
    "        for i, token in enumerate(next_tokens):\n",
    "            generated_tokens[i].append(token)\n",
    "    \n",
    "    return [\"\".join(tokens) for tokens in generated_tokens]\n",
    "    \n",
    "    "
   ]
  },
  {
   "cell_type": "code",
   "execution_count": 55,
   "metadata": {},
   "outputs": [
    {
     "name": "stdout",
     "output_type": "stream",
     "text": [
      "The quick brown fox jumped over the \u001b[31m fence and ran to the other side of the fence\u001b[0m\n",
      "\n",
      "The rain in Spain falls \u001b[31m on the first day of the month, and the\u001b[0m\n",
      "\n",
      "What comes up must \u001b[31m be a good idea.\n",
      "\n",
      "\"I think\u001b[0m\n",
      "\n"
     ]
    }
   ],
   "source": [
    "prompts = [\n",
    "    \"The quick brown fox jumped over the\",\n",
    "    \"The rain in Spain falls\",\n",
    "    \"What comes up must\",\n",
    "]\n",
    "\n",
    "# note: padding=True ensures the padding token\n",
    "# will be inserted into the tokenized tensors\n",
    "inputs = tokenizer(prompts, padding=True, return_tensors=\"pt\")\n",
    "generated_tokens = generate_batch(inputs, max_tokens=10)\n",
    "for prompt, generated in zip(prompts, generated_tokens):\n",
    "    print(prompt, f\"\\x1b[31m{generated}\\x1b[0m\\n\")"
   ]
  },
  {
   "cell_type": "markdown",
   "metadata": {},
   "source": [
    "### 吞吐量和延迟"
   ]
  },
  {
   "cell_type": "code",
   "execution_count": 59,
   "metadata": {},
   "outputs": [
    {
     "name": "stdout",
     "output_type": "stream",
     "text": [
      "bs= 1\n",
      "duration 0.22410035133361816\n",
      "throughput 44.62286623153482\n",
      "avg latency 0.022410035133361816\n",
      "\n",
      "bs= 2\n",
      "duration 0.22409868240356445\n",
      "throughput 89.24639710278763\n",
      "avg latency 0.022409868240356446\n",
      "\n",
      "bs= 4\n",
      "duration 0.22975707054138184\n",
      "throughput 174.09692727082168\n",
      "avg latency 0.022975707054138185\n",
      "\n",
      "bs= 8\n",
      "duration 0.2635688781738281\n",
      "throughput 303.52597224031376\n",
      "avg latency 0.026356887817382813\n",
      "\n",
      "bs= 16\n",
      "duration 0.34040045738220215\n",
      "throughput 470.0346210767624\n",
      "avg latency 0.03404004573822021\n",
      "\n",
      "bs= 32\n",
      "duration 0.4365041255950928\n",
      "throughput 733.09730936389\n",
      "avg latency 0.04365041255950928\n",
      "\n",
      "bs= 64\n",
      "duration 0.7155253887176514\n",
      "throughput 894.4476465705762\n",
      "avg latency 0.07155253887176513\n",
      "\n",
      "bs= 128\n",
      "duration 1.3159205913543701\n",
      "throughput 972.7030706941063\n",
      "avg latency 0.131592059135437\n",
      "\n",
      "bs= 256\n",
      "duration 2.494321823120117\n",
      "throughput 1026.331075754181\n",
      "avg latency 0.24943218231201172\n",
      "\n",
      "bs= 512\n",
      "duration 5.058351278305054\n",
      "throughput 1012.1875129470255\n",
      "avg latency 0.5058351278305053\n",
      "\n"
     ]
    }
   ],
   "source": [
    "max_tokens = 10\n",
    "\n",
    "durations = []\n",
    "throughputs = []\n",
    "latencies = []\n",
    "# bs增加吞吐量增大，延迟提高 显卡的每秒计算量有限\n",
    "batch_sizes = [2**p for p in range(10)]\n",
    "for batch_size in batch_sizes:\n",
    "    print(f\"bs= {batch_size}\")\n",
    "    t0 = time.time()\n",
    "    batch_prompts = [\n",
    "        prompts[i%len(prompts)] for i in range(batch_size)\n",
    "    ]\n",
    "    inputs = tokenizer(batch_prompts, padding=True, return_tensors=\"pt\")\n",
    "    generated_tokens = generate_batch(inputs, max_tokens=max_tokens)\n",
    "    duration_s = time.time() -t0\n",
    "    ntokens = batch_size * max_tokens\n",
    "    throughput = ntokens/duration_s  # 吞吐量为每秒生成的tokens\n",
    "    avg_latency = duration_s/max_tokens # 平均延迟 每个token延迟的时间\n",
    "    print(\"duration\", duration_s)\n",
    "    print(\"throughput\", throughput)\n",
    "    print(\"avg latency\", avg_latency)    \n",
    "    print()\n",
    "    durations.append(duration_s)\n",
    "    throughputs.append(throughput)\n",
    "    latencies.append(avg_latency)"
   ]
  },
  {
   "cell_type": "code",
   "execution_count": 60,
   "metadata": {},
   "outputs": [
    {
     "data": {
      "image/png": "[encoded data removed]",
      "text/plain": [
       "<Figure size 640x480 with 2 Axes>"
      ]
     },
     "metadata": {},
     "output_type": "display_data"
    }
   ],
   "source": [
    "def render_plot(x, y1, y2, x_label, y1_label, y2_label):\n",
    "    fig, ax1 = plt.subplots()\n",
    "\n",
    "    color = 'tab:red'\n",
    "    ax1.set_xlabel(x_label)\n",
    "    ax1.set_ylabel(y1_label, color=color)\n",
    "    ax1.plot(x, y1, color=color)\n",
    "    ax1.tick_params(axis='y', labelcolor=color)\n",
    "\n",
    "    ax1.set_xscale('log', base=2)\n",
    "\n",
    "    ax2 = ax1.twinx()  \n",
    "    color = 'tab:blue'\n",
    "    ax2.set_ylabel(y2_label, color=color) \n",
    "    ax2.plot(x, y2, color=color)\n",
    "    ax2.tick_params(axis='y', labelcolor=color)\n",
    "\n",
    "    plt.show()\n",
    "render_plot(\n",
    "    batch_sizes,\n",
    "    throughputs,\n",
    "    latencies,\n",
    "    \"Batch Size\",\n",
    "    \"Throughput\",\n",
    "    \"Latency\"\n",
    ")"
   ]
  },
  {
   "cell_type": "markdown",
   "metadata": {},
   "source": [
    "## Continuous Batching\n",
    "连续批处理背后的关键思想是不断地将已完成生成的批处理中的请求替换为队列中等待处理的请求。"
   ]
  },
  {
   "cell_type": "code",
   "execution_count": 1,
   "metadata": {},
   "outputs": [
    {
     "name": "stderr",
     "output_type": "stream",
     "text": [
      "/home/dongbingcheng/anaconda3/envs/llm/lib/python3.9/site-packages/tqdm/auto.py:21: TqdmWarning: IProgress not found. Please update jupyter and ipywidgets. See https://ipywidgets.readthedocs.io/en/stable/user_install.html\n",
      "  from .autonotebook import tqdm as notebook_tqdm\n"
     ]
    }
   ],
   "source": [
    "import copy\n",
    "import matplotlib.pyplot as plt\n",
    "import numpy as np\n",
    "import random\n",
    "import time\n",
    "import torch\n",
    "import torch.nn.functional as F\n",
    "from tqdm import tqdm\n",
    "from transformers import AutoModelForCausalLM, AutoTokenizer"
   ]
  },
  {
   "cell_type": "code",
   "execution_count": 2,
   "metadata": {},
   "outputs": [],
   "source": [
    "def get_next_inputs(batch, next_token_ids, past_key_values, next_tokens):\n",
    "    return {\n",
    "        # '-1' here means the remaining elements for this dim\n",
    "        \"input_ids\": next_token_ids.reshape((-1, 1)),\n",
    "        # increment last, discard the rest\n",
    "        \"position_ids\": batch[\"position_ids\"][:, -1].unsqueeze(-1) + 1,\n",
    "        # concatenate vector of 1's with shape [batch_size]\n",
    "        \"attention_mask\": torch.cat([\n",
    "            batch[\"attention_mask\"],\n",
    "            torch.ones((next_token_ids.shape[0], 1)),  \n",
    "        ], dim=1),\n",
    "        \"past_key_values\": past_key_values,\n",
    "        \"responses\": [\n",
    "            r1 + r2 for r1, r2 \n",
    "            in zip(batch[\"responses\"], next_tokens)],\n",
    "        \"tokens_remaining\": [\n",
    "            v - 1 for v in batch[\"tokens_remaining\"]],\n",
    "    }\n",
    "\n",
    "\n",
    "def init_batch(requests):\n",
    "    prompts = [r[0] for r in requests]\n",
    "    inputs = tokenizer(prompts, padding=True, return_tensors=\"pt\")\n",
    "    \n",
    "    attention_mask = inputs[\"attention_mask\"]\n",
    "    position_ids = attention_mask.long().cumsum(-1) - 1\n",
    "    position_ids.masked_fill_(attention_mask == 0, 1)\n",
    "    \n",
    "    return {\n",
    "        \"position_ids\": position_ids,\n",
    "        \"responses\": copy.copy(prompts),\n",
    "        \"tokens_remaining\": [r[1] for r in requests],\n",
    "        **inputs\n",
    "    }\n",
    "\n",
    "\n",
    "def generate_next_token(batch):\n",
    "    inputs = copy.copy(batch)\n",
    "    inputs.pop(\"responses\")\n",
    "    inputs.pop(\"tokens_remaining\")\n",
    "    \n",
    "    next_token_ids, past_key_values = \\\n",
    "        generate_batch_tokens_with_past(inputs)\n",
    "    next_tokens = tokenizer.batch_decode(next_token_ids)\n",
    "    return get_next_inputs(\n",
    "        batch, next_token_ids, past_key_values, next_tokens)\n",
    "\n",
    "\n",
    "def merge_batches(batch1, batch2):\n",
    "    # first find the max sequence length of the two batches\n",
    "    # this can be obtained from the second dimension \n",
    "    # of the attention mask\n",
    "    attn_mask1 = batch1[\"attention_mask\"]\n",
    "    attn_mask2 = batch2[\"attention_mask\"]\n",
    "    max_seq_len = max(attn_mask1.shape[1], attn_mask2.shape[1])\n",
    "    \n",
    "    # pad each mask (on the left) to the max sequence length\n",
    "    # attention mask uses 0 for padding\n",
    "    padding1 = max_seq_len - attn_mask1.shape[1]\n",
    "    padding2 = max_seq_len - attn_mask2.shape[1]\n",
    "    attn_mask1 = F.pad(attn_mask1, (padding1, 0), \"constant\", 0)\n",
    "    attn_mask2 = F.pad(attn_mask2, (padding2, 0), \"constant\", 0)\n",
    "    \n",
    "    # because we only append batches post decoding, \n",
    "    # we don't need to pad input_ids\n",
    "    # or position_ids. these are always length 1 \n",
    "    # in the sequence dimension\n",
    "    # however, we do need to pad the \n",
    "    # past_key_values, which have shape:\n",
    "    # [batch_size, num_heads, sequence_length, head_dim]\n",
    "    past_kv1 = batch1[\"past_key_values\"]\n",
    "    past_kv2 = batch2[\"past_key_values\"]\n",
    "    \n",
    "    padded_kv1 = []\n",
    "    for i in range(len(past_kv1)):\n",
    "        k, v = past_kv1[i]\n",
    "        k = F.pad(k, (0, 0, padding1, 0), \"constant\", 0)\n",
    "        v = F.pad(v, (0, 0, padding1, 0), \"constant\", 0)     \n",
    "        padded_kv1.append((k, v))\n",
    "    \n",
    "    padded_kv2 = []\n",
    "    for i in range(len(past_kv2)):\n",
    "        k, v = past_kv2[i]\n",
    "        k = F.pad(k, (0, 0, padding2, 0), \"constant\", 0)\n",
    "        v = F.pad(v, (0, 0, padding2, 0), \"constant\", 0)     \n",
    "        padded_kv2.append((k, v))\n",
    "        \n",
    "    # now that everything has been padded to have\n",
    "    # consistent shapes, let's merge\n",
    "    input_ids = torch.concat(\n",
    "        [batch1[\"input_ids\"], batch2[\"input_ids\"]], dim=0)\n",
    "    position_ids = torch.concat(\n",
    "        [batch1[\"position_ids\"], batch2[\"position_ids\"]], dim=0) \n",
    "    attn_mask = torch.concat([attn_mask1, attn_mask2], dim=0)\n",
    "    \n",
    "    past_kv = []\n",
    "    for i in range(len(padded_kv1)):\n",
    "        k1, v1 = padded_kv1[i]\n",
    "        k2, v2 = padded_kv2[i]\n",
    "        k = torch.concat([k1, k2], dim=0)\n",
    "        v = torch.concat([v1, v2], dim=0)\n",
    "        past_kv.append((k, v))\n",
    "    \n",
    "    return {\n",
    "        \"input_ids\": input_ids,\n",
    "        \"position_ids\": position_ids,\n",
    "        \"attention_mask\": attn_mask,\n",
    "        \"past_key_values\": past_kv,\n",
    "        \"responses\": batch1[\"responses\"] + batch2[\"responses\"],\n",
    "        \"tokens_remaining\": batch1[\"tokens_remaining\"] + batch2[\"tokens_remaining\"],\n",
    "    }\n",
    "\n",
    "\n",
    "def filter_batch(batch):\n",
    "    # mark all rows with 0 tokens remaining for removal\n",
    "    remove_indices = []\n",
    "    for i, tokens_remaining in enumerate(batch[\"tokens_remaining\"]):\n",
    "        if tokens_remaining <= 0:\n",
    "            remove_indices.append(i)\n",
    "    \n",
    "    # first, define a mask used to subselect the indices to keep\n",
    "    # from each tensor, given the indices to remove\n",
    "    batch_size = batch[\"input_ids\"].size(0)\n",
    "    mask = torch.ones(batch_size, dtype=torch.bool)\n",
    "    mask[remove_indices] = False\n",
    "\n",
    "    # index into the tensors using the mask to remove rows\n",
    "    input_ids = batch[\"input_ids\"][mask]\n",
    "    position_ids = batch[\"position_ids\"][mask]\n",
    "    attention_mask = batch[\"attention_mask\"][mask]\n",
    "    responses = [\n",
    "        r \n",
    "        for i, r in enumerate(batch[\"responses\"])\n",
    "        if i not in remove_indices\n",
    "    ]\n",
    "    tokens_remaining = [\n",
    "        v \n",
    "        for i, v in enumerate(batch[\"tokens_remaining\"])\n",
    "        if i not in remove_indices\n",
    "    ]\n",
    "\n",
    "    past_key_values = batch[\"past_key_values\"]\n",
    "    new_past_key_values = []\n",
    "    for i in range(len(past_key_values)):\n",
    "        k, v = past_key_values[i]\n",
    "        k = k[mask]\n",
    "        v = v[mask]\n",
    "        new_past_key_values.append((k, v))\n",
    "    past_key_values = new_past_key_values\n",
    "    \n",
    "    if input_ids.size(0) > 0:\n",
    "        # next, as an optimization to avoid wasting \n",
    "        # compute cycles on padding tokens,\n",
    "        # we will left truncate the attention_mask \n",
    "        # and past_key_values to the longest\n",
    "        # remaining sequence length\n",
    "        # we obtain the longest sequence length by \n",
    "        # looking for the min first non-zero index\n",
    "        # of the attention mask\n",
    "        # cumprod ensures we stop accumulating when we see a 1\n",
    "        zero_mask = attention_mask == 0\n",
    "        cumprod = zero_mask.cumprod(dim=1)  \n",
    "        leading_zeros_count = cumprod.sum(dim=1)\n",
    "        min_leading_zeros = torch.min(leading_zeros_count)\n",
    "        truncation_offset = min_leading_zeros.item()\n",
    "\n",
    "        # do the trunction\n",
    "        attention_mask = attention_mask[:, truncation_offset:]\n",
    "        past_key_values = past_key_values\n",
    "        new_past_key_values = []\n",
    "        for i in range(len(past_key_values)):\n",
    "            k, v = past_key_values[i]\n",
    "            k = k[:, :, truncation_offset:, :]\n",
    "            v = v[:, :, truncation_offset:, :]\n",
    "            new_past_key_values.append((k, v))\n",
    "        past_key_values = new_past_key_values\n",
    "    \n",
    "    # return the new batch\n",
    "    return {\n",
    "        \"input_ids\": input_ids,\n",
    "        \"position_ids\": position_ids,\n",
    "        \"attention_mask\": attention_mask,\n",
    "        \"past_key_values\": past_key_values,\n",
    "        \"responses\": responses,\n",
    "        \"tokens_remaining\": tokens_remaining,\n",
    "    }, remove_indices\n",
    "\n",
    "\n",
    "def generate_batch_tokens_with_past(inputs):\n",
    "    with torch.no_grad():\n",
    "        outputs = model(**inputs)\n",
    "\n",
    "    logits = outputs.logits\n",
    "    last_logits = logits[:, -1, :]\n",
    "    next_token_ids = last_logits.argmax(dim=1)\n",
    "    return next_token_ids, outputs.past_key_values\n"
   ]
  },
  {
   "cell_type": "code",
   "execution_count": 5,
   "metadata": {},
   "outputs": [],
   "source": [
    "model_name = \"models/gpt_2\"\n",
    "tokenizer = AutoTokenizer.from_pretrained(model_name)\n",
    "model = AutoModelForCausalLM.from_pretrained(model_name)\n",
    "\n",
    "\n",
    "# Define PAD Token = EOS Token = 50256\n",
    "tokenizer.pad_token = tokenizer.eos_token\n",
    "model.config.pad_token_id = model.config.eos_token_id\n",
    "\n",
    "# pad on the left so we can append new tokens on the right\n",
    "tokenizer.padding_side = \"left\"\n",
    "tokenizer.truncation_side = \"left\"\n",
    "\n",
    "\n",
    "# multiple prompts of varying lengths to send to the model at once\n",
    "prompts = [\n",
    "    \"The quick brown fox jumped over the\",\n",
    "    \"The rain in Spain falls\",\n",
    "    \"What comes up must\",\n",
    "]\n",
    "\n",
    "# note: padding=True ensures the padding token will be inserted into the tokenized tensors\n",
    "inputs = tokenizer(prompts, padding=True, return_tensors=\"pt\")"
   ]
  },
  {
   "cell_type": "code",
   "execution_count": 6,
   "metadata": {},
   "outputs": [],
   "source": [
    "attention_mask = inputs[\"attention_mask\"]"
   ]
  },
  {
   "cell_type": "code",
   "execution_count": 7,
   "metadata": {},
   "outputs": [
    {
     "data": {
      "text/plain": [
       "tensor([[False, False, False, False, False, False, False],\n",
       "        [ True,  True, False, False, False, False, False],\n",
       "        [ True,  True,  True, False, False, False, False]])"
      ]
     },
     "execution_count": 7,
     "metadata": {},
     "output_type": "execute_result"
    }
   ],
   "source": [
    "zero_mask = attention_mask == 0\n",
    "zero_mask"
   ]
  },
  {
   "cell_type": "code",
   "execution_count": 8,
   "metadata": {},
   "outputs": [
    {
     "data": {
      "text/plain": [
       "tensor([[0, 0, 0, 0, 0, 0, 0],\n",
       "        [1, 1, 0, 0, 0, 0, 0],\n",
       "        [1, 1, 1, 0, 0, 0, 0]])"
      ]
     },
     "execution_count": 8,
     "metadata": {},
     "output_type": "execute_result"
    }
   ],
   "source": [
    "cumprod = zero_mask.cumprod(dim=1)\n",
    "cumprod"
   ]
  },
  {
   "cell_type": "code",
   "execution_count": 9,
   "metadata": {},
   "outputs": [
    {
     "data": {
      "text/plain": [
       "tensor([0, 2, 3])"
      ]
     },
     "execution_count": 9,
     "metadata": {},
     "output_type": "execute_result"
    }
   ],
   "source": [
    "leading_zeros_count = cumprod.sum(dim=1)\n",
    "leading_zeros_count\n",
    "# 可以理解为如果从左padding 如果都有左端padding 可以直接给阶段掉"
   ]
  },
  {
   "cell_type": "code",
   "execution_count": 4,
   "metadata": {},
   "outputs": [],
   "source": [
    "def generate_batch(inputs, max_tokens):\n",
    "    generated_tokens = [[] for _ in range(inputs[\"input_ids\"].shape[0])]\n",
    "    attention_mask = inputs[\"attention_mask\"]\n",
    "    position_ids = attention_mask.long().cumsum(-1) -1 \n",
    "    position_ids.masked_fill_(attention_mask==0, 1)\n",
    "\n",
    "    next_inputs = {\n",
    "        \"position_ids\": position_ids,\n",
    "        **inputs\n",
    "    }\n",
    "    for _ in range(max_tokens):\n",
    "        next_token_id, past_key_values = generate_batch_tokens_with_past(next_inputs)\n",
    "        next_inputs = {\n",
    "            \"input_ids\": next_token_id.reshape((-1,1)),\n",
    "            \"attention_mask\": torch.cat([next_inputs[\"attention_mask\"], torch.ones((next_token_id.shape[0],1))],dim=1),\n",
    "            \"position_ids\": next_inputs[\"position_ids\"][:, -1].unsqueeze(-1) + 1,\n",
    "            \"past_key_values\": past_key_values\n",
    "        }\n",
    "        next_tokens = tokenizer.batch_decode(next_token_id)\n",
    "        for i, tokens in enumerate(next_tokens):\n",
    "            generated_tokens[i].append(tokens)\n",
    "    return [\"\".join(tokens) for tokens in generated_tokens]"
   ]
  },
  {
   "cell_type": "code",
   "execution_count": 59,
   "metadata": {},
   "outputs": [],
   "source": [
    "random.seed(42)\n",
    "queue_size=32\n",
    "batch_size = 8\n",
    "\n",
    "request_queue=[\n",
    "    (prompts[i%len(prompts)],100 if i % batch_size==0 else 10)\n",
    "    for i in range(queue_size)\n",
    "]\n",
    "batches = [\n",
    "    request_queue[i:i+batch_size]\n",
    "    for i in range(0, len(request_queue), batch_size)\n",
    "]"
   ]
  },
  {
   "cell_type": "code",
   "execution_count": 60,
   "metadata": {},
   "outputs": [
    {
     "data": {
      "text/plain": [
       "[('The quick brown fox jumped over the', 100),\n",
       " ('The rain in Spain falls', 10),\n",
       " ('What comes up must', 10),\n",
       " ('The quick brown fox jumped over the', 10),\n",
       " ('The rain in Spain falls', 10),\n",
       " ('What comes up must', 10),\n",
       " ('The quick brown fox jumped over the', 10),\n",
       " ('The rain in Spain falls', 10)]"
      ]
     },
     "execution_count": 60,
     "metadata": {},
     "output_type": "execute_result"
    }
   ],
   "source": [
    "batches[0]"
   ]
  },
  {
   "cell_type": "code",
   "execution_count": 61,
   "metadata": {},
   "outputs": [
    {
     "name": "stderr",
     "output_type": "stream",
     "text": [
      "bs=8: 100%|██████████| 4/4 [00:10<00:00,  2.62s/it, max_tokens=100]"
     ]
    },
    {
     "name": "stdout",
     "output_type": "stream",
     "text": [
      "duration 10.495745420455933\n"
     ]
    },
    {
     "name": "stderr",
     "output_type": "stream",
     "text": [
      "\n"
     ]
    }
   ],
   "source": [
    "# 测试batching 而不是Continuous Batching\n",
    "t0 = time.time()\n",
    "with tqdm(total=len(batches), desc=f\"bs={batch_size}\") as pbar:\n",
    "    for i, batch in enumerate(batches):\n",
    "        batch_max_tokens = [b[1] for b  in batch]\n",
    "        max_tokens = max(batch_max_tokens)\n",
    "        pbar.set_postfix({\"max_tokens\": max_tokens})\n",
    "\n",
    "        batch_prompts = [b[0] for b in batch]\n",
    "        inputs = tokenizer(batch_prompts, padding=True, return_tensors=\"pt\")\n",
    "        generate_batch(inputs, max_tokens=max_tokens)\n",
    "        pbar.update(1)\n",
    "duration_s = time.time()-t0\n",
    "print(\"duration\", duration_s)\n",
    "# 总延迟有10s 而且每次都是2.62s 因为必须解码同一批次seq_len一样长，故而导致了其他生成短的也在batch中，不能释放出来"
   ]
  },
  {
   "cell_type": "code",
   "execution_count": 62,
   "metadata": {},
   "outputs": [],
   "source": [
    "## 使用continuous batching\n",
    "## 使用连续批处理动态地从队列中换入和换出输入。\n",
    "\n",
    "random.seed(42)\n",
    "queue_size=32\n",
    "batch_size = 8\n",
    "\n",
    "request_queue=[\n",
    "    (prompts[i%len(prompts)],100 if i % batch_size==0 else 10)\n",
    "    for i in range(queue_size)\n",
    "]"
   ]
  },
  {
   "cell_type": "code",
   "execution_count": 63,
   "metadata": {},
   "outputs": [
    {
     "name": "stderr",
     "output_type": "stream",
     "text": [
      "bs=8: 100%|██████████| 32/32 [00:03<00:00,  8.86it/s]"
     ]
    },
    {
     "name": "stdout",
     "output_type": "stream",
     "text": [
      "time: 3.612703800201416\n"
     ]
    },
    {
     "name": "stderr",
     "output_type": "stream",
     "text": [
      "\n"
     ]
    }
   ],
   "source": [
    "t0 = time.time()\n",
    "with tqdm(total=len(request_queue), desc=f\"bs={batch_size}\") as pbar:\n",
    "    batch = init_batch(request_queue[:batch_size])  # 正常处理 将前8个给生成输入 同时多了responses和tokens_remaining\n",
    "    cached_batch = generate_next_token(batch) # 生成下一个token 并再次构成输入\n",
    "    request_queue = request_queue[batch_size:]\n",
    "\n",
    "    while(len(request_queue)>0 or cached_batch[\"input_ids\"].size(0)>0):\n",
    "        batch_capacity = (\n",
    "            batch_size - cached_batch[\"input_ids\"].size(0)\n",
    "        )\n",
    "        if batch_capacity > 0 and len(request_queue) >0:\n",
    "            # prefill\n",
    "            new_batch = init_batch(request_queue[:batch_capacity])\n",
    "            new_batch = generate_next_token(new_batch)\n",
    "            request_queue = request_queue[batch_capacity:]\n",
    "            cached_batch = merge_batches(cached_batch, new_batch) # 融合的时候进行padding 然后拼接\n",
    "        \n",
    "        cached_batch = generate_next_token(cached_batch) # 每次都只生成一个token \n",
    "\n",
    "        cached_batch, removed_indices = filter_batch(cached_batch)\n",
    "        pbar.update(len(removed_indices))\n",
    "\n",
    "duration_s = time.time()-t0\n",
    "# 时间减少了3倍 大量的消耗在seq_len100上\n",
    "print(f\"time: {duration_s}\")"
   ]
  },
  {
   "cell_type": "markdown",
   "metadata": {},
   "source": [
    "## Quantization"
   ]
  },
  {
   "cell_type": "code",
   "execution_count": 64,
   "metadata": {},
   "outputs": [],
   "source": [
    "import copy\n",
    "import matplotlib.pyplot as plt\n",
    "import numpy as np\n",
    "import random\n",
    "import time\n",
    "import torch\n",
    "import torch.nn.functional as F\n",
    "from tqdm import tqdm\n",
    "from transformers import AutoModelForCausalLM, AutoTokenizer\n",
    "from transformers.models.gpt2.modeling_gpt2 import GPT2Model"
   ]
  },
  {
   "cell_type": "code",
   "execution_count": 65,
   "metadata": {},
   "outputs": [],
   "source": [
    "def get_next_inputs(batch, next_token_ids, past_key_values, next_tokens):\n",
    "    return {\n",
    "        \"input_ids\": next_token_ids.reshape((-1, 1)),  # '-1' here means the remaining elements for this dim\n",
    "        \"position_ids\": batch[\"position_ids\"][:, -1].unsqueeze(-1) + 1,  # increment last, discard the rest\n",
    "        \"attention_mask\": torch.cat([\n",
    "            batch[\"attention_mask\"],\n",
    "            torch.ones((next_token_ids.shape[0], 1)),  # concatenate vector of 1's with shape [batch_size]\n",
    "        ], dim=1),\n",
    "        \"past_key_values\": past_key_values,\n",
    "        \"responses\": [r1 + r2 for r1, r2 in zip(batch[\"responses\"], next_tokens)],\n",
    "        \"tokens_remaining\": [v - 1 for v in batch[\"tokens_remaining\"]],\n",
    "    }\n",
    "\n",
    "\n",
    "def init_batch(tokenizer, requests):\n",
    "    prompts = [r[0] for r in requests]\n",
    "    inputs = tokenizer(prompts, padding=True, return_tensors=\"pt\")\n",
    "    \n",
    "    attention_mask = inputs[\"attention_mask\"]\n",
    "    position_ids = attention_mask.long().cumsum(-1) - 1\n",
    "    position_ids.masked_fill_(attention_mask == 0, 1)\n",
    "    \n",
    "    return {\n",
    "        \"position_ids\": position_ids,\n",
    "        \"responses\": copy.copy(prompts),\n",
    "        \"tokens_remaining\": [r[1] for r in requests],\n",
    "        **inputs\n",
    "    }\n",
    "\n",
    "\n",
    "def generate_batch_tokens_with_past(model, inputs):\n",
    "    with torch.no_grad():\n",
    "        outputs = model(**inputs)\n",
    "\n",
    "    logits = outputs.logits\n",
    "    last_logits = logits[:, -1, :]\n",
    "    next_token_ids = last_logits.argmax(dim=1)\n",
    "    return next_token_ids, outputs.past_key_values\n",
    "\n",
    "\n",
    "def generate_next_token(model, tokenizer, batch):\n",
    "    inputs = copy.copy(batch)\n",
    "    inputs.pop(\"responses\")\n",
    "    inputs.pop(\"tokens_remaining\")\n",
    "    \n",
    "    next_token_ids, past_key_values = generate_batch_tokens_with_past(model, inputs)\n",
    "    next_tokens = tokenizer.batch_decode(next_token_ids)\n",
    "    return get_next_inputs(batch, next_token_ids, past_key_values, next_tokens)\n",
    "\n",
    "\n",
    "def merge_batches(batch1, batch2):\n",
    "    # first find the max sequence length of the two batches\n",
    "    # this can be obtained from the second dimension of the attention mask\n",
    "    attn_mask1 = batch1[\"attention_mask\"]\n",
    "    attn_mask2 = batch2[\"attention_mask\"]\n",
    "    max_seq_len = max(attn_mask1.shape[1], attn_mask2.shape[1])\n",
    "    \n",
    "    # pad each mask (on the left) to the max sequence length\n",
    "    # attention mask uses 0 for padding\n",
    "    padding1 = max_seq_len - attn_mask1.shape[1]\n",
    "    padding2 = max_seq_len - attn_mask2.shape[1]\n",
    "    attn_mask1 = F.pad(attn_mask1, (padding1, 0), \"constant\", 0)\n",
    "    attn_mask2 = F.pad(attn_mask2, (padding2, 0), \"constant\", 0)\n",
    "    \n",
    "    # because we only append batches post decoding, we don't need to pad input_ids\n",
    "    # or position_ids. these are always length 1 in the sequence dimension\n",
    "    # however, we do need to pad the past_key_values, which have shape:\n",
    "    # [batch_size, num_heads, sequence_length, head_dim]\n",
    "    past_kv1 = batch1[\"past_key_values\"]\n",
    "    past_kv2 = batch2[\"past_key_values\"]\n",
    "    \n",
    "    padded_kv1 = []\n",
    "    for i in range(len(past_kv1)):\n",
    "        k, v = past_kv1[i]\n",
    "        k = F.pad(k, (0, 0, padding1, 0), \"constant\", 0)\n",
    "        v = F.pad(v, (0, 0, padding1, 0), \"constant\", 0)     \n",
    "        padded_kv1.append((k, v))\n",
    "    \n",
    "    padded_kv2 = []\n",
    "    for i in range(len(past_kv2)):\n",
    "        k, v = past_kv2[i]\n",
    "        k = F.pad(k, (0, 0, padding2, 0), \"constant\", 0)\n",
    "        v = F.pad(v, (0, 0, padding2, 0), \"constant\", 0)     \n",
    "        padded_kv2.append((k, v))\n",
    "        \n",
    "    # now that everything has been padded to have consistent shapes, let's merge\n",
    "    input_ids = torch.concat([batch1[\"input_ids\"], batch2[\"input_ids\"]], dim=0)\n",
    "    position_ids = torch.concat([batch1[\"position_ids\"], batch2[\"position_ids\"]], dim=0) \n",
    "    attn_mask = torch.concat([attn_mask1, attn_mask2], dim=0)\n",
    "    \n",
    "    past_kv = []\n",
    "    for i in range(len(padded_kv1)):\n",
    "        k1, v1 = padded_kv1[i]\n",
    "        k2, v2 = padded_kv2[i]\n",
    "        k = torch.concat([k1, k2], dim=0)\n",
    "        v = torch.concat([v1, v2], dim=0)\n",
    "        past_kv.append((k, v))\n",
    "    \n",
    "    return {\n",
    "        \"input_ids\": input_ids,\n",
    "        \"position_ids\": position_ids,\n",
    "        \"attention_mask\": attn_mask,\n",
    "        \"past_key_values\": past_kv,\n",
    "        \"responses\": batch1[\"responses\"] + batch2[\"responses\"],\n",
    "        \"tokens_remaining\": batch1[\"tokens_remaining\"] + batch2[\"tokens_remaining\"],\n",
    "    }\n",
    "\n",
    "\n",
    "def filter_batch(batch):\n",
    "    # mark all rows with 0 tokens remaining for removal\n",
    "    remove_indices = []\n",
    "    for i, tokens_remaining in enumerate(batch[\"tokens_remaining\"]):\n",
    "        if tokens_remaining <= 0:\n",
    "            remove_indices.append(i)\n",
    "            \n",
    "    completed_responses = [\n",
    "        r \n",
    "        for i, r in enumerate(batch[\"responses\"])\n",
    "        if i in remove_indices\n",
    "    ]\n",
    "    \n",
    "    # first, define a mask used to subselect the indices to keep\n",
    "    # from each tensor, given the indices to remove\n",
    "    batch_size = batch[\"input_ids\"].size(0)\n",
    "    mask = torch.ones(batch_size, dtype=torch.bool)\n",
    "    mask[remove_indices] = False\n",
    "\n",
    "    # index into the tensors using the mask to remove rows\n",
    "    input_ids = batch[\"input_ids\"][mask]\n",
    "    position_ids = batch[\"position_ids\"][mask]\n",
    "    attention_mask = batch[\"attention_mask\"][mask]\n",
    "    responses = [\n",
    "        r \n",
    "        for i, r in enumerate(batch[\"responses\"])\n",
    "        if i not in remove_indices\n",
    "    ]\n",
    "    tokens_remaining = [\n",
    "        v \n",
    "        for i, v in enumerate(batch[\"tokens_remaining\"])\n",
    "        if i not in remove_indices\n",
    "    ]\n",
    "\n",
    "    past_key_values = batch[\"past_key_values\"]\n",
    "    new_past_key_values = []\n",
    "    for i in range(len(past_key_values)):\n",
    "        k, v = past_key_values[i]\n",
    "        k = k[mask]\n",
    "        v = v[mask]\n",
    "        new_past_key_values.append((k, v))\n",
    "    past_key_values = new_past_key_values\n",
    "    \n",
    "    if input_ids.size(0) > 0:\n",
    "        # next, as an optimization to avoid wasting compute cycles on padding tokens,\n",
    "        # we will left truncate the attention_mask and past_key_values to the longest\n",
    "        # remaining sequence length\n",
    "        # we obtain the longest sequence length by looking for the min first non-zero index\n",
    "        # of the attention mask\n",
    "        zero_mask = attention_mask == 0\n",
    "        cumprod = zero_mask.cumprod(dim=1)  # cumprod ensures we stop accumulating when we see a 1\n",
    "        leading_zeros_count = cumprod.sum(dim=1)\n",
    "        min_leading_zeros = torch.min(leading_zeros_count)\n",
    "        truncation_offset = min_leading_zeros.item()\n",
    "\n",
    "        # do the trunction\n",
    "        attention_mask = attention_mask[:, truncation_offset:]\n",
    "        past_key_values = past_key_values\n",
    "        new_past_key_values = []\n",
    "        for i in range(len(past_key_values)):\n",
    "            k, v = past_key_values[i]\n",
    "            k = k[:, :, truncation_offset:, :]\n",
    "            v = v[:, :, truncation_offset:, :]\n",
    "            new_past_key_values.append((k, v))\n",
    "        past_key_values = new_past_key_values\n",
    "    \n",
    "    # return the new batch\n",
    "    return {\n",
    "        \"input_ids\": input_ids,\n",
    "        \"position_ids\": position_ids,\n",
    "        \"attention_mask\": attention_mask,\n",
    "        \"past_key_values\": past_key_values,\n",
    "        \"responses\": responses,\n",
    "        \"tokens_remaining\": tokens_remaining,\n",
    "    }, remove_indices, completed_responses\n",
    "\n",
    "\n",
    "def generate(model, tokenizer, requests):\n",
    "    # seed the random number generator so our results are deterministic\n",
    "    random.seed(42)\n",
    "\n",
    "    # constants\n",
    "    batch_size = 8\n",
    "    request_queue = copy.copy(requests)\n",
    "    \n",
    "    responses = [None] * len(requests)\n",
    "\n",
    "    # and run the initial prefill step\n",
    "    batch = init_batch(tokenizer, request_queue[:batch_size])\n",
    "    cached_batch = generate_next_token(model, tokenizer, batch)\n",
    "    request_queue = request_queue[batch_size:]\n",
    "\n",
    "    # continue until both the request queue is fully drained and every input\n",
    "    # within the cached_batch has completed generation\n",
    "    while len(request_queue) > 0 or cached_batch[\"input_ids\"].size(0) > 0:\n",
    "        batch_capacity = batch_size - cached_batch[\"input_ids\"].size(0)\n",
    "        if batch_capacity > 0 and len(request_queue) > 0:\n",
    "            # prefill\n",
    "            new_batch = init_batch(tokenizer, request_queue[:batch_capacity])\n",
    "            new_batch = generate_next_token(model, tokenizer, new_batch)\n",
    "            request_queue = request_queue[batch_capacity:]\n",
    "\n",
    "            # merge\n",
    "            cached_batch = merge_batches(cached_batch, new_batch)\n",
    "\n",
    "        # decode\n",
    "        cached_batch = generate_next_token(model, tokenizer, cached_batch)\n",
    "\n",
    "        # remove any inputs that have finished generation\n",
    "        cached_batch, removed_indices, completed_responses = filter_batch(cached_batch)\n",
    "\n",
    "        for idx, resp in zip(removed_indices, completed_responses):\n",
    "            responses[idx] = resp\n",
    "    \n",
    "    return responses"
   ]
  },
  {
   "cell_type": "code",
   "execution_count": 103,
   "metadata": {},
   "outputs": [],
   "source": [
    "model_name = \"models/gpt_2\"\n",
    "tokenizer = AutoTokenizer.from_pretrained(model_name)\n",
    "model = AutoModelForCausalLM.from_pretrained(model_name)\n",
    "\n",
    "\n",
    "# Define PAD Token = EOS Token = 50256\n",
    "tokenizer.pad_token = tokenizer.eos_token\n",
    "model.config.pad_token_id = model.config.eos_token_id\n",
    "\n",
    "# pad on the left so we can append new tokens on the right\n",
    "tokenizer.padding_side = \"left\"\n",
    "tokenizer.truncation_side = \"left\""
   ]
  },
  {
   "cell_type": "code",
   "execution_count": 104,
   "metadata": {},
   "outputs": [],
   "source": [
    "def get_float32_dtype(self):\n",
    "    return torch.float32\n",
    "GPT2Model.dtype = property(get_float32_dtype)"
   ]
  },
  {
   "cell_type": "code",
   "execution_count": 105,
   "metadata": {},
   "outputs": [
    {
     "data": {
      "text/plain": [
       "510342192"
      ]
     },
     "execution_count": 105,
     "metadata": {},
     "output_type": "execute_result"
    }
   ],
   "source": [
    "model.get_memory_footprint()"
   ]
  },
  {
   "cell_type": "code",
   "execution_count": 106,
   "metadata": {},
   "outputs": [],
   "source": [
    "# 量化\n",
    "def quantize(t):\n",
    "    min_val, max_val = t.min(), t.max()\n",
    "    scale = (max_val-min_val)/255\n",
    "    zero_point = min_val\n",
    "\n",
    "    t_quant = (t-zero_point)/scale\n",
    "    t_quant = torch.clamp(t_quant, min=0, max=255)\n",
    "\n",
    "    state = (scale, zero_point)\n",
    "    t_quant = t_quant.type(torch.uint8)\n",
    "    return t_quant, state"
   ]
  },
  {
   "cell_type": "code",
   "execution_count": 107,
   "metadata": {},
   "outputs": [
    {
     "name": "stdout",
     "output_type": "stream",
     "text": [
      "tensor([[-0.4738, -0.2614, -0.0978,  ...,  0.0513, -0.0584,  0.0250],\n",
      "        [ 0.0874,  0.1473,  0.2387,  ..., -0.0525, -0.0113, -0.0156],\n",
      "        [ 0.0039,  0.0695,  0.3668,  ...,  0.1143,  0.0363, -0.0318],\n",
      "        ...,\n",
      "        [-0.2592, -0.0164,  0.1991,  ...,  0.0095, -0.0516,  0.0319],\n",
      "        [ 0.1517,  0.2170,  0.1043,  ...,  0.0293, -0.0429, -0.0475],\n",
      "        [-0.4100, -0.1924, -0.2400,  ..., -0.0046,  0.0070,  0.0198]]) torch.Size([768, 2304])\n"
     ]
    }
   ],
   "source": [
    "t = model.transformer.h[0].attn.c_attn.weight.data\n",
    "print(t, t.shape)"
   ]
  },
  {
   "cell_type": "code",
   "execution_count": 108,
   "metadata": {},
   "outputs": [
    {
     "name": "stdout",
     "output_type": "stream",
     "text": [
      "tensor([[107, 116, 124,  ..., 130, 125, 129],\n",
      "        [132, 135, 139,  ..., 126, 128, 127],\n",
      "        [128, 131, 145,  ..., 133, 130, 127],\n",
      "        ...,\n",
      "        [116, 127, 137,  ..., 129, 126, 130],\n",
      "        [135, 138, 133,  ..., 129, 126, 126],\n",
      "        [110, 119, 117,  ..., 128, 128, 129]], dtype=torch.uint8) tensor(0, dtype=torch.uint8) tensor(255, dtype=torch.uint8)\n"
     ]
    }
   ],
   "source": [
    "t_q,state = quantize(t)\n",
    "print(t_q, t_q.min(), t_q.max())"
   ]
  },
  {
   "cell_type": "code",
   "execution_count": 109,
   "metadata": {},
   "outputs": [],
   "source": [
    "# 反量化\n",
    "def dequantize(t, state):\n",
    "    scale, zero_point = state\n",
    "    return t.to(torch.float32)*scale + zero_point"
   ]
  },
  {
   "cell_type": "code",
   "execution_count": 110,
   "metadata": {},
   "outputs": [
    {
     "data": {
      "text/plain": [
       "'The quick brown fox jumped over the fence and ran to the other side of the fence'"
      ]
     },
     "execution_count": 110,
     "metadata": {},
     "output_type": "execute_result"
    }
   ],
   "source": [
    "response_expected = generate(\n",
    "    model,\n",
    "    tokenizer,\n",
    "    [(\"The quick brown fox jumped over the\", 10)]\n",
    ")[0]\n",
    "response_expected"
   ]
  },
  {
   "cell_type": "code",
   "execution_count": 111,
   "metadata": {},
   "outputs": [],
   "source": [
    "## 量化后生成\n",
    "def quantize_model(model):\n",
    "    states = {}\n",
    "    for name, param in model.named_parameters():\n",
    "        param.requires_grad = False\n",
    "        param.data, state = quantize(param)\n",
    "        states[name] = state\n",
    "    return model, states"
   ]
  },
  {
   "cell_type": "code",
   "execution_count": 112,
   "metadata": {},
   "outputs": [],
   "source": [
    "quant_model, states = quantize_model(model)"
   ]
  },
  {
   "cell_type": "code",
   "execution_count": 113,
   "metadata": {},
   "outputs": [
    {
     "data": {
      "text/plain": [
       "137022768"
      ]
     },
     "execution_count": 113,
     "metadata": {},
     "output_type": "execute_result"
    }
   ],
   "source": [
    "quant_model.get_memory_footprint() # 占用减少到1/4"
   ]
  },
  {
   "cell_type": "code",
   "execution_count": 117,
   "metadata": {},
   "outputs": [
    {
     "data": {
      "text/plain": [
       "'The quick brown fox jumped over the fence.\\n\\nThe fox jumped over the fence'"
      ]
     },
     "execution_count": 117,
     "metadata": {},
     "output_type": "execute_result"
    }
   ],
   "source": [
    "response_expected = generate(\n",
    "    quant_model,\n",
    "    tokenizer,\n",
    "    [(\"The quick brown fox jumped over the\", 10)]\n",
    ")[0]\n",
    "response_expected  # 量化之后生成就不太行"
   ]
  },
  {
   "cell_type": "code",
   "execution_count": 114,
   "metadata": {},
   "outputs": [],
   "source": [
    "def dequantize_model(model, states):\n",
    "    for name, param in model.named_parameters():\n",
    "        state = states[name]\n",
    "        param.data = dequantize(param.data, state)\n",
    "    return model"
   ]
  },
  {
   "cell_type": "code",
   "execution_count": 115,
   "metadata": {},
   "outputs": [
    {
     "data": {
      "text/plain": [
       "510342192"
      ]
     },
     "execution_count": 115,
     "metadata": {},
     "output_type": "execute_result"
    }
   ],
   "source": [
    "dequant_model = dequantize_model(quant_model, states)\n",
    "dequant_model.get_memory_footprint()"
   ]
  },
  {
   "cell_type": "code",
   "execution_count": 116,
   "metadata": {},
   "outputs": [
    {
     "data": {
      "text/plain": [
       "'The quick brown fox jumped over the fence.\\n\\nThe fox jumped over the fence'"
      ]
     },
     "execution_count": 116,
     "metadata": {},
     "output_type": "execute_result"
    }
   ],
   "source": [
    "response_expected = generate(\n",
    "    dequant_model,\n",
    "    tokenizer,\n",
    "    [(\"The quick brown fox jumped over the\", 10)]\n",
    ")[0]\n",
    "response_expected  # 量化之后生成可以接受"
   ]
  },
  {
   "cell_type": "code",
   "execution_count": null,
   "metadata": {},
   "outputs": [],
   "source": []
  }
 ],
 "metadata": {
  "kernelspec": {
   "display_name": "llm",
   "language": "python",
   "name": "python3"
  },
  "language_info": {
   "codemirror_mode": {
    "name": "ipython",
    "version": 3
   },
   "file_extension": ".py",
   "mimetype": "text/x-python",
   "name": "python",
   "nbconvert_exporter": "python",
   "pygments_lexer": "ipython3",
   "version": "3.9.19"
  }
 },
 "nbformat": 4,
 "nbformat_minor": 2
}
